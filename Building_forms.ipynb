{
  "nbformat": 4,
  "nbformat_minor": 0,
  "metadata": {
    "colab": {
      "provenance": []
    },
    "kernelspec": {
      "name": "python3",
      "display_name": "Python 3"
    },
    "language_info": {
      "name": "python"
    }
  },
  "cells": [
    {
      "cell_type": "markdown",
      "source": [
        "# Building Form and Integrating Media\n",
        "\n",
        "\n",
        "  Q-1. Explain the basic structure of an HTML page. Why is it important to follow this structure?\n",
        "```\n",
        "  - !DOCTYPE html  : This tells the browser we are using HTML5.\n",
        "  - html tag : It is a root element. It wraps the whole content of the webpage.\n",
        "  - head tag : It contains metadata of the page. It includes page title, link to stylesheets, meta information.\n",
        "  - title tag : It inside the head tag and name appears in browser tab.\n",
        "  - body tag : It contains everything, means actually see on the webpage. It includes paragraphs, headings,\n",
        "   links, images, videos, form, table, etc.\n",
        "```\n",
        "\n",
        "\n"
      ],
      "metadata": {
        "id": "g3KUT0cVcg9Z"
      }
    },
    {
      "cell_type": "markdown",
      "source": [
        "Q-2. You’re building a small personal profile page. Which HTML tags will you\n",
        "use to highlight your name as a heading, describe yourself in a paragraph, and\n",
        "emphasize a key skill?\n",
        "\n",
        "\n",
        "```\n",
        "<!DOCTYPE html>\n",
        "<html lang=\"en\">\n",
        "  <head>\n",
        "    <meta charset=\"UTF-8\" />\n",
        "    <meta name=\"viewport\" content=\"width=device-width, initial-scale=1.0\" />\n",
        "    <title>Profile</title>\n",
        "  </head>\n",
        "  <body>\n",
        "    <h1>Shivam Gupta</h1>\n",
        "    <p>\n",
        "      I am a web developer who loves creating beautiful and user-friendly\n",
        "      websites. I enjoy turning ideas into real websites using HTML, CSS, and\n",
        "      JavaScript. I also have strong problem-solving skills, which help me fix\n",
        "      bugs and build better solutions.\n",
        "    </p>\n",
        "        <p>\n",
        "            My key skill is <em>MERN</em> with <em>AI</em>.\n",
        "        </p>\n",
        "\n",
        "        \n",
        "  </body>\n",
        "</html>\n",
        "```"
      ],
      "metadata": {
        "id": "oy73x0GkxSnW"
      }
    },
    {
      "cell_type": "markdown",
      "source": [
        "Q-3. Look at the code below. Can you find and fix the mistake?\n",
        "```\n",
        "<!-- This is an HTML comment\n",
        "<h1>Welcome to my website</h1>\n",
        "```\n",
        "Answer :\n",
        "```\n",
        "The above given code is wrong because html comment is not proper closing.\n",
        "\n",
        "Corrected Code :\n",
        "\n",
        "<!-- This is an HTML comment -->\n",
        "<h1>Welcome to my website</h1>\n",
        "```\n",
        "\n"
      ],
      "metadata": {
        "id": "tZpsmfRryPXA"
      }
    },
    {
      "cell_type": "markdown",
      "source": [
        "Q-4. You’re creating a form that asks the user to enter their name, select their\n",
        "country from a list, and click a button to submit. Write the HTML code for this.\n",
        "\n",
        "```\n",
        "<!DOCTYPE html>\n",
        "<html lang=\"en\">\n",
        "<head>\n",
        "    <meta charset=\"UTF-8\">\n",
        "    <meta name=\"viewport\" content=\"width=device-width, initial-scale=1.0\">\n",
        "    <title>HTML Form</title>\n",
        "</head>\n",
        "<body>\n",
        "    <form>\n",
        "        <label for=\"name\">Name :</label>\n",
        "        <input type=\"text\" id=\"name\" placeholder=\"Enter your name\" name=\"Name\" required>\n",
        "\n",
        "        <br>\n",
        "\n",
        "        <label for=\"country\">Country :</label>\n",
        "        <select name=\"Country\" id=\"country\" required>\n",
        "            <option>Select Country</option>\n",
        "            <option value=\"India\">India</option>\n",
        "            <option value=\"America\">America</option>\n",
        "            <option value=\"England\">England</option>\n",
        "            <option value=\"Canada\">Canada</option>\n",
        "            <option value=\"Russia\">Russia</option>\n",
        "            <option value=\"Australia\">Australia</option>\n",
        "        </select>\n",
        "\n",
        "        <br>\n",
        "\n",
        "        <input type=\"submit\" value=\"Submit\">\n",
        "    </form>\n",
        "</body>\n",
        "</html>\n",
        "```"
      ],
      "metadata": {
        "id": "_CtfE48sy5tG"
      }
    },
    {
      "cell_type": "markdown",
      "source": [
        "Q-5. Write short HTML code to show your favorite fruits in a bulleted list and\n",
        "your top 3 programming languages in a numbered list.\n",
        "\n",
        "```\n",
        "<!DOCTYPE html>\n",
        "<html lang=\"en\">\n",
        "<head>\n",
        "    <meta charset=\"UTF-8\">\n",
        "    <meta name=\"viewport\" content=\"width=device-width, initial-scale=1.0\">\n",
        "    <title>ordered and unordered lists</title>\n",
        "</head>\n",
        "<body>\n",
        "    <h1>My Favourite Fruits</h1>\n",
        "    <ul type=\"disc\">\n",
        "        <li>Mango</li>\n",
        "        <li>Banana</li>\n",
        "        <li>Orange</li>\n",
        "    </ul>\n",
        "\n",
        "    <hr>\n",
        "\n",
        "    <h1>Top 3 Programming Languages</h1>\n",
        "    <ol type=\"1\">\n",
        "        <li>JavaScript</li>\n",
        "        <li>Python</li>\n",
        "        <li>Java</li>\n",
        "    </ol>\n",
        "</body>\n",
        "</html>\n",
        "```"
      ],
      "metadata": {
        "id": "AG634U9EzM3o"
      }
    },
    {
      "cell_type": "markdown",
      "source": [
        "Q-6. Ravi wants to leave a note in his HTML file so that only other developers\n",
        "can see it, not the users on the website. How should he do this? Why are such notes\n",
        "useful?\n",
        "\n",
        "```\n",
        " - Ravi should use HTML comments.\n",
        " - The comments in HTML start with <!-- and ends with --> .\n",
        " - Inside these comments user cannot see on the webpage.\n",
        "\n",
        "\n",
        " such notes are useful because :\n",
        " - To explain parts of the code for better understanding.\n",
        " - To mark for future updates or changes.\n",
        " - To help in teamwork, so others can understand logic.\n",
        "\n",
        " For e.g :\n",
        " <!-- This is the main heading of the page -->\n",
        "   <h1>Ravi Portfolio</h1>\n",
        "```"
      ],
      "metadata": {
        "id": "VoqyscIDzahu"
      }
    },
    {
      "cell_type": "markdown",
      "source": [
        "Q-7. Here’s a form snippet. Can you spot the error and rewrite the correct\n",
        "version?\n",
        "```\n",
        "<form>\n",
        " <input name=\"email\">\n",
        " <select>\n",
        " <option>India</option>\n",
        " </select>\n",
        " <button>Send</buton>\n",
        "</form>\n",
        "```\n",
        "\n",
        "Answer :\n",
        "\n",
        "```\n",
        "Correct version :\n",
        "\n",
        "<form>\n",
        "  <input type=\"email\" name=\"email\" />\n",
        "  <select name=\"country\">\n",
        "    <option>India</option>\n",
        "  </select>\n",
        "  <button type=\"submit\">Send</button>\n",
        "</form>\n",
        "```"
      ],
      "metadata": {
        "id": "WY8TyDkP0CS7"
      }
    }
  ]
}